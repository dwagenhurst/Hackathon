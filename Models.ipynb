{
 "cells": [
  {
   "cell_type": "code",
   "execution_count": 44,
   "id": "5de546f4-3c2e-443e-afb4-d41c1f2019b3",
   "metadata": {},
   "outputs": [],
   "source": [
    "# imports\n",
    "import pandas as pd\n",
    "import numpy as np\n",
    "import matplotlib.pyplot as plt\n",
    "import seaborn as sns\n",
    "\n",
    "from sklearn.metrics import f1_score, precision_score, accuracy_score, ConfusionMatrixDisplay\n",
    "from sklearn.model_selection import train_test_split, GridSearchCV\n",
    "from sklearn.linear_model import LogisticRegression\n",
    "from sklearn.neighbors import KNeighborsClassifier\n",
    "from sklearn.dummy import DummyClassifier\n",
    "from sklearn.feature_extraction.text import CountVectorizer"
   ]
  },
  {
   "cell_type": "code",
   "execution_count": 24,
   "id": "6ee9f6bd-9a89-4fdb-a77f-6d4dfd23e15e",
   "metadata": {},
   "outputs": [
    {
     "data": {
      "text/html": [
       "<div>\n",
       "<style scoped>\n",
       "    .dataframe tbody tr th:only-of-type {\n",
       "        vertical-align: middle;\n",
       "    }\n",
       "\n",
       "    .dataframe tbody tr th {\n",
       "        vertical-align: top;\n",
       "    }\n",
       "\n",
       "    .dataframe thead th {\n",
       "        text-align: right;\n",
       "    }\n",
       "</style>\n",
       "<table border=\"1\" class=\"dataframe\">\n",
       "  <thead>\n",
       "    <tr style=\"text-align: right;\">\n",
       "      <th></th>\n",
       "      <th>message_datetime</th>\n",
       "      <th>name</th>\n",
       "      <th>moderator</th>\n",
       "      <th>vip</th>\n",
       "      <th>subscriber</th>\n",
       "      <th>is_first_message</th>\n",
       "      <th>message_len</th>\n",
       "      <th>qtd_msgs_15_secs</th>\n",
       "      <th>message</th>\n",
       "      <th>banned</th>\n",
       "    </tr>\n",
       "  </thead>\n",
       "  <tbody>\n",
       "    <tr>\n",
       "      <th>702985</th>\n",
       "      <td>2021-09-08 20:18:00</td>\n",
       "      <td>mc_cree2</td>\n",
       "      <td>0</td>\n",
       "      <td>0</td>\n",
       "      <td>0</td>\n",
       "      <td>0</td>\n",
       "      <td>6</td>\n",
       "      <td>1.0</td>\n",
       "      <td>PogU 1</td>\n",
       "      <td>0</td>\n",
       "    </tr>\n",
       "    <tr>\n",
       "      <th>702986</th>\n",
       "      <td>2021-09-08 20:18:00</td>\n",
       "      <td>REEEEEEEEEEEEEEEEEEEEEESE</td>\n",
       "      <td>0</td>\n",
       "      <td>0</td>\n",
       "      <td>1</td>\n",
       "      <td>0</td>\n",
       "      <td>10</td>\n",
       "      <td>2.0</td>\n",
       "      <td>nice shots</td>\n",
       "      <td>0</td>\n",
       "    </tr>\n",
       "  </tbody>\n",
       "</table>\n",
       "</div>"
      ],
      "text/plain": [
       "           message_datetime                       name  moderator  vip  \\\n",
       "702985  2021-09-08 20:18:00                   mc_cree2          0    0   \n",
       "702986  2021-09-08 20:18:00  REEEEEEEEEEEEEEEEEEEEEESE          0    0   \n",
       "\n",
       "        subscriber  is_first_message  message_len  qtd_msgs_15_secs  \\\n",
       "702985           0                 0            6               1.0   \n",
       "702986           1                 0           10               2.0   \n",
       "\n",
       "           message  banned  \n",
       "702985      PogU 1       0  \n",
       "702986  nice shots       0  "
      ]
     },
     "execution_count": 24,
     "metadata": {},
     "output_type": "execute_result"
    }
   ],
   "source": [
    "data = pd.read_csv('./data/xqc_chat.csv', parse_dates=True)\n",
    "\n",
    "data.columns = [col.lower() for col in data.columns]\n",
    "\n",
    "data.dropna(inplace=True) # cant use if missing data\n",
    "data.reset_index(inplace=True)\n",
    "data.drop(columns='index', inplace=True)\n",
    "\n",
    "data.tail(2)"
   ]
  },
  {
   "cell_type": "code",
   "execution_count": 26,
   "id": "9836e866-2aaf-466c-a55c-fec6d8b00b8f",
   "metadata": {},
   "outputs": [],
   "source": [
    "# split on days into fifths for faser training \n",
    "data1 = data.iloc[: (len(data) // 10)]\n"
   ]
  },
  {
   "cell_type": "code",
   "execution_count": null,
   "id": "b949525e-fc4f-4edc-89ca-64d220c3f5e8",
   "metadata": {},
   "outputs": [],
   "source": [
    "def get_scores(y_true, y_preds):\n",
    "    return f'f1: {f1_score(y_true, y_preds)}, precision: {precision_score(y_true, y_preds)}, accuracy: {accuracy_score(y_true, y_preds)}'"
   ]
  },
  {
   "cell_type": "markdown",
   "id": "6a2cc791-33c9-42a1-ac3d-c21ee581c1d5",
   "metadata": {},
   "source": [
    "## Baseline "
   ]
  },
  {
   "cell_type": "code",
   "execution_count": 5,
   "id": "3313c1ba-8e2b-4d3c-8022-02578067056a",
   "metadata": {},
   "outputs": [
    {
     "data": {
      "text/plain": [
       "0    69759\n",
       "1      539\n",
       "Name: banned, dtype: int64"
      ]
     },
     "execution_count": 5,
     "metadata": {},
     "output_type": "execute_result"
    }
   ],
   "source": [
    "# baseline\n",
    "data1['banned'].value_counts()"
   ]
  },
  {
   "cell_type": "code",
   "execution_count": 11,
   "id": "31a01681-def2-4e37-a67e-d6ee80b01b92",
   "metadata": {},
   "outputs": [],
   "source": [
    "data2['banned'].value_counts()\n",
    "\n",
    "data3['banned'].value_counts()\n",
    "\n",
    "data4['banned'].value_counts()\n",
    "\n",
    "data5['banned'].value_counts()"
   ]
  },
  {
   "cell_type": "code",
   "execution_count": 97,
   "id": "ecef952d-43b4-4921-8893-da7b7e5d70d2",
   "metadata": {},
   "outputs": [
    {
     "data": {
      "text/plain": [
       "'f1: 0.015218035772265905, precision: 0.007667358957580585, accuracy: 0.007667358957580585'"
      ]
     },
     "execution_count": 97,
     "metadata": {},
     "output_type": "execute_result"
    }
   ],
   "source": [
    "X = data1.drop(columns=['name', 'banned', 'is_first_message'])\n",
    "y = data1['banned']\n",
    "\n",
    "dc = DummyClassifier(strategy='constant', constant=1)\n",
    "dc.fit(X, y)\n",
    "dummy_preds = dc.predict(X)\n",
    "\n",
    "\n",
    "get_scores(y, dummy_preds)"
   ]
  },
  {
   "cell_type": "code",
   "execution_count": 98,
   "id": "7e90ce7e-7481-4a8f-ba00-71f41a8954eb",
   "metadata": {},
   "outputs": [
    {
     "data": {
      "text/plain": [
       "<sklearn.metrics._plot.confusion_matrix.ConfusionMatrixDisplay at 0x2a3c25d35b0>"
      ]
     },
     "execution_count": 98,
     "metadata": {},
     "output_type": "execute_result"
    },
    {
     "data": {
      "image/png": "[encoded data removed]",
      "text/plain": [
       "<Figure size 432x288 with 2 Axes>"
      ]
     },
     "metadata": {
      "needs_background": "light"
     },
     "output_type": "display_data"
    }
   ],
   "source": [
    "ConfusionMatrixDisplay.from_predictions(y, dummy_preds)"
   ]
  },
  {
   "cell_type": "code",
   "execution_count": 99,
   "id": "3f50d02c-f96f-4549-affd-1b44f3c32995",
   "metadata": {},
   "outputs": [
    {
     "name": "stderr",
     "output_type": "stream",
     "text": [
      "C:\\Users\\David\\anaconda3\\lib\\site-packages\\sklearn\\metrics\\_classification.py:1318: UndefinedMetricWarning: Precision is ill-defined and being set to 0.0 due to no predicted samples. Use `zero_division` parameter to control this behavior.\n",
      "  _warn_prf(average, modifier, msg_start, len(result))\n"
     ]
    },
    {
     "data": {
      "text/plain": [
       "'f1: 0.0, precision: 0.0, accuracy: 0.9923326410424194'"
      ]
     },
     "execution_count": 99,
     "metadata": {},
     "output_type": "execute_result"
    }
   ],
   "source": [
    "X = data1.drop(columns=['name', 'banned', 'is_first_message'])\n",
    "y = data1['banned']\n",
    "\n",
    "dc = DummyClassifier()\n",
    "dc.fit(X, y)\n",
    "dummy_preds = dc.predict(X)\n",
    "\n",
    "\n",
    "get_scores(y, dummy_preds)"
   ]
  },
  {
   "cell_type": "code",
   "execution_count": 100,
   "id": "4922cb58-77d0-4e7d-bedd-697f1ace542c",
   "metadata": {},
   "outputs": [
    {
     "data": {
      "text/plain": [
       "<sklearn.metrics._plot.confusion_matrix.ConfusionMatrixDisplay at 0x2a3c2571d60>"
      ]
     },
     "execution_count": 100,
     "metadata": {},
     "output_type": "execute_result"
    },
    {
     "data": {
      "image/png": "[encoded data removed]",
      "text/plain": [
       "<Figure size 432x288 with 2 Axes>"
      ]
     },
     "metadata": {
      "needs_background": "light"
     },
     "output_type": "display_data"
    }
   ],
   "source": [
    "ConfusionMatrixDisplay.from_predictions(y, dummy_preds)"
   ]
  },
  {
   "cell_type": "markdown",
   "id": "f88c63e2-d0de-4754-b143-a1ee5c73b3e9",
   "metadata": {},
   "source": [
    "## Logistic Regression"
   ]
  },
  {
   "cell_type": "code",
   "execution_count": null,
   "id": "cefed78a-30b4-4f55-bdae-f43da7306812",
   "metadata": {},
   "outputs": [],
   "source": [
    "X = data1.drop(columns=['name', 'banned','message_datetime', 'message'])\n",
    "y = data1['banned']\n",
    "\n",
    "X_train, X_test, y_train, y_test = train_test_split(X, y, random_state=42, stratify=y)\n",
    "\n",
    "lr = LogisticRegression(max_iter=10_000)\n",
    "lr.fit(X_train, y_train)\n",
    "lr_preds = lr.predict(X_test)\n",
    "\n",
    "get_scores(y_test, lr_preds)"
   ]
  },
  {
   "cell_type": "code",
   "execution_count": 89,
   "id": "7871633c-4de4-4d6b-aae5-2159f475e343",
   "metadata": {},
   "outputs": [
    {
     "data": {
      "text/plain": [
       "'f1: 0.13157894736842105, precision: 0.5882352941176471, accuracy: 0.9924893314366998'"
      ]
     },
     "execution_count": 89,
     "metadata": {},
     "output_type": "execute_result"
    }
   ],
   "source": [
    "f'f1: {f1_score(y_test, lr_preds)}, precision: {precision_score(y_test, lr_preds)}, accuracy: {accuracy_score(y_test, lr_preds)}'"
   ]
  },
  {
   "cell_type": "code",
   "execution_count": 80,
   "id": "dfd0871c-02e9-4c38-bcc5-882d3f78c4a2",
   "metadata": {},
   "outputs": [
    {
     "data": {
      "text/plain": [
       "<sklearn.metrics._plot.confusion_matrix.ConfusionMatrixDisplay at 0x2a5094c7130>"
      ]
     },
     "execution_count": 80,
     "metadata": {},
     "output_type": "execute_result"
    },
    {
     "data": {
      "image/png": "[encoded data removed]",
      "text/plain": [
       "<Figure size 432x288 with 2 Axes>"
      ]
     },
     "metadata": {
      "needs_background": "light"
     },
     "output_type": "display_data"
    }
   ],
   "source": [
    "ConfusionMatrixDisplay.from_predictions(y_test, lr_preds)"
   ]
  },
  {
   "cell_type": "code",
   "execution_count": null,
   "id": "d54f0630-f67c-4448-9f96-244f3bdca1d1",
   "metadata": {
    "tags": []
   },
   "outputs": [],
   "source": [
    "X = data1.drop(columns=['name', 'banned', 'is_first_message', 'message_datetime', 'moderator', 'vip', 'subscriber'])\n",
    "y = data1['banned']\n",
    "\n",
    "cv = CountVectorizer(stop_words='english', min_df=5)\n",
    "cv_message = cv.fit_transform(X['message'])\n",
    "\n",
    "X_cv = pd.merge(left=X, right=pd.DataFrame.sparse.from_spmatrix(cv_message, columns=cv.get_feature_names_out()), left_index=True, right_index=True)\n",
    "X_cv.drop(columns='message_x', inplace=True)\n",
    "X_train, X_test, y_train, y_test = train_test_split(X_cv, y, random_state=42, stratify=y)\n",
    "\n",
    "lr2 = LogisticRegression(max_iter=10_000)\n",
    "lr2.fit(X_train, y_train)\n",
    "lr2_preds = lr2.predict(X_test)\n",
    "\n",
    "get_scores(y_test, lr2_preds)"
   ]
  },
  {
   "cell_type": "code",
   "execution_count": 90,
   "id": "7f4999d2-567c-472a-a61f-ccbbbd1e5a8b",
   "metadata": {},
   "outputs": [
    {
     "data": {
      "text/plain": [
       "'f1: 0.40740740740740744, precision: 0.5432098765432098, accuracy: 0.9927169274537696'"
      ]
     },
     "execution_count": 90,
     "metadata": {},
     "output_type": "execute_result"
    }
   ],
   "source": [
    "f'f1: {f1_score(y_test, lr2_preds)}, precision: {precision_score(y_test, lr2_preds)}, accuracy: {accuracy_score(y_test, lr2_preds)}'"
   ]
  },
  {
   "cell_type": "code",
   "execution_count": 82,
   "id": "9c5f8b4d-fb84-4118-b4e5-18e63f05c436",
   "metadata": {},
   "outputs": [
    {
     "data": {
      "text/plain": [
       "<sklearn.metrics._plot.confusion_matrix.ConfusionMatrixDisplay at 0x2a3caa081c0>"
      ]
     },
     "execution_count": 82,
     "metadata": {},
     "output_type": "execute_result"
    },
    {
     "data": {
      "image/png": "[encoded data removed]",
      "text/plain": [
       "<Figure size 432x288 with 2 Axes>"
      ]
     },
     "metadata": {
      "needs_background": "light"
     },
     "output_type": "display_data"
    }
   ],
   "source": [
    "ConfusionMatrixDisplay.from_predictions(y_test, lr2_preds)"
   ]
  },
  {
   "cell_type": "code",
   "execution_count": null,
   "id": "e8ea8d97-dc05-406a-877c-739889967451",
   "metadata": {},
   "outputs": [],
   "source": [
    "X = data1.drop(columns=['name', 'banned', 'is_first_message', 'message_datetime', 'moderator', 'vip', 'subscriber'])\n",
    "y = data1['banned']\n",
    "\n",
    "cv = CountVectorizer(stop_words='english', min_df=5)\n",
    "cv_message = cv.fit_transform(X['message'])\n",
    "\n",
    "X_cv = pd.merge(left=X, right=pd.DataFrame.sparse.from_spmatrix(cv_message, columns=cv.get_feature_names_out()), left_index=True, right_index=True)\n",
    "X_cv.drop(columns=['message_x', 'message_len'], inplace=True)\n",
    "X_train, X_test, y_train, y_test = train_test_split(X_cv, y, random_state=42, stratify=y)\n",
    "\n",
    "lr3 = LogisticRegression(max_iter=10_000)\n",
    "lr3.fit(X_train, y_train)\n",
    "lr3_preds = lr3.predict(X_test)\n",
    "\n",
    "get_scores(y_test, lr3_preds)"
   ]
  },
  {
   "cell_type": "code",
   "execution_count": 91,
   "id": "0214aedf-4c74-466e-8f88-c8da28c7d7b1",
   "metadata": {},
   "outputs": [
    {
     "data": {
      "text/plain": [
       "'f1: 0.38095238095238093, precision: 0.5333333333333333, accuracy: 0.9926031294452347'"
      ]
     },
     "execution_count": 91,
     "metadata": {},
     "output_type": "execute_result"
    }
   ],
   "source": [
    "f'f1: {f1_score(y_test, lr3_preds)}, precision: {precision_score(y_test, lr3_preds)}, accuracy: {accuracy_score(y_test, lr3_preds)}'"
   ]
  },
  {
   "cell_type": "code",
   "execution_count": 84,
   "id": "ab9c9e39-ebe6-4a31-ba8a-a66cfcb0191f",
   "metadata": {},
   "outputs": [
    {
     "data": {
      "text/plain": [
       "<sklearn.metrics._plot.confusion_matrix.ConfusionMatrixDisplay at 0x2a3c48f7070>"
      ]
     },
     "execution_count": 84,
     "metadata": {},
     "output_type": "execute_result"
    },
    {
     "data": {
      "image/png": "[encoded data removed]",
      "text/plain": [
       "<Figure size 432x288 with 2 Axes>"
      ]
     },
     "metadata": {
      "needs_background": "light"
     },
     "output_type": "display_data"
    }
   ],
   "source": [
    "ConfusionMatrixDisplay.from_predictions(y_test, lr3_preds)"
   ]
  },
  {
   "cell_type": "code",
   "execution_count": null,
   "id": "d3d58744-b53a-44f7-a185-3bc01a67a64a",
   "metadata": {},
   "outputs": [],
   "source": [
    "X = data1.drop(columns=['banned', 'is_first_message', 'message_datetime', 'moderator', 'vip', 'subscriber'])\n",
    "X = pd.get_dummies(X, columns=['name'])\n",
    "X = X.drop(columns=['message'])\n",
    "y = data1['banned']\n",
    "\n",
    "X_train, X_test, y_train, y_test = train_test_split(X, y, random_state=42, stratify=y)\n",
    "\n",
    "lr4 = LogisticRegression(max_iter=10_000)\n",
    "lr4.fit(X_train, y_train)\n",
    "lr4_preds = lr4.predict(X_test)\n",
    "\n",
    "get_scores(y_test, lr4_preds)"
   ]
  },
  {
   "cell_type": "code",
   "execution_count": 92,
   "id": "97acefe3-8bce-43c9-bbfd-2d178e0513f3",
   "metadata": {},
   "outputs": [
    {
     "data": {
      "text/plain": [
       "'f1: 0.10810810810810811, precision: 0.6153846153846154, accuracy: 0.9924893314366998'"
      ]
     },
     "execution_count": 92,
     "metadata": {},
     "output_type": "execute_result"
    }
   ],
   "source": [
    "f'f1: {f1_score(y_test, lr4_preds)}, precision: {precision_score(y_test, lr4_preds)}, accuracy: {accuracy_score(y_test, lr4_preds)}'"
   ]
  },
  {
   "cell_type": "code",
   "execution_count": 86,
   "id": "5ef0405f-7528-4ccc-9d64-cd4004a0293f",
   "metadata": {},
   "outputs": [
    {
     "data": {
      "text/plain": [
       "<sklearn.metrics._plot.confusion_matrix.ConfusionMatrixDisplay at 0x2a3de612ca0>"
      ]
     },
     "execution_count": 86,
     "metadata": {},
     "output_type": "execute_result"
    },
    {
     "data": {
      "image/png": "[encoded data removed]",
      "text/plain": [
       "<Figure size 432x288 with 2 Axes>"
      ]
     },
     "metadata": {
      "needs_background": "light"
     },
     "output_type": "display_data"
    }
   ],
   "source": [
    "ConfusionMatrixDisplay.from_predictions(y_test, lr4_preds)"
   ]
  },
  {
   "cell_type": "code",
   "execution_count": 87,
   "id": "40d3f319-8d4b-48df-8298-ed0451406471",
   "metadata": {},
   "outputs": [
    {
     "name": "stderr",
     "output_type": "stream",
     "text": [
      "C:\\Users\\David\\anaconda3\\lib\\site-packages\\sklearn\\utils\\validation.py:624: UserWarning: pandas.DataFrame with sparse columns found.It will be converted to a dense numpy array.\n",
      "  warnings.warn(\n",
      "C:\\Users\\David\\anaconda3\\lib\\site-packages\\sklearn\\utils\\validation.py:624: UserWarning: pandas.DataFrame with sparse columns found.It will be converted to a dense numpy array.\n",
      "  warnings.warn(\n",
      "C:\\Users\\David\\anaconda3\\lib\\site-packages\\sklearn\\metrics\\_classification.py:1318: UndefinedMetricWarning: Precision is ill-defined and being set to 0.0 due to no predicted samples. Use `zero_division` parameter to control this behavior.\n",
      "  _warn_prf(average, modifier, msg_start, len(result))\n"
     ]
    },
    {
     "data": {
      "text/plain": [
       "'f1: 0.0, precision: 0.0, accuracy: 0.9923326410424194'"
      ]
     },
     "execution_count": 87,
     "metadata": {},
     "output_type": "execute_result"
    }
   ],
   "source": [
    "X = data1.drop(columns=['name', 'banned', 'is_first_message', 'message_datetime', 'moderator', 'vip', 'subscriber'])\n",
    "y = data1['banned']\n",
    "\n",
    "cv = CountVectorizer(stop_words='english', min_df=5, max_df=1000)\n",
    "cv_message = cv.fit_transform(X['message'])\n",
    "\n",
    "X_cv = pd.merge(left=X, right=pd.DataFrame.sparse.from_spmatrix(cv_message, columns=cv.get_feature_names_out()), left_index=True, right_index=True)\n",
    "X_cv.drop(columns='message_x', inplace=True)\n",
    "X_train, X_test, y_train, y_test = train_test_split(X_cv, y, random_state=42, stratify=y)\n",
    "\n",
    "lr5 = LogisticRegression(max_iter=10_000)\n",
    "lr5.fit(X_train, y_train)\n",
    "lr5_preds = lr5.predict(X_test)\n",
    "\n",
    "get_scores(y_test, lr5_preds)"
   ]
  },
  {
   "cell_type": "code",
   "execution_count": 93,
   "id": "2baee8b5-b41b-4aa6-a053-217e96fc94e7",
   "metadata": {},
   "outputs": [
    {
     "data": {
      "text/plain": [
       "'f1: 0.3518518518518518, precision: 0.4691358024691358, accuracy: 0.9920341394025605'"
      ]
     },
     "execution_count": 93,
     "metadata": {},
     "output_type": "execute_result"
    }
   ],
   "source": [
    "f'f1: {f1_score(y_test, lr5_preds)}, precision: {precision_score(y_test, lr5_preds)}, accuracy: {accuracy_score(y_test, lr5_preds)}'"
   ]
  },
  {
   "cell_type": "code",
   "execution_count": 88,
   "id": "8d1d3e8d-2492-49cb-97d4-fbe843d39505",
   "metadata": {},
   "outputs": [
    {
     "data": {
      "text/plain": [
       "<sklearn.metrics._plot.confusion_matrix.ConfusionMatrixDisplay at 0x2a3de612790>"
      ]
     },
     "execution_count": 88,
     "metadata": {},
     "output_type": "execute_result"
    },
    {
     "data": {
      "image/png": "[encoded data removed]",
      "text/plain": [
       "<Figure size 432x288 with 2 Axes>"
      ]
     },
     "metadata": {
      "needs_background": "light"
     },
     "output_type": "display_data"
    }
   ],
   "source": [
    "ConfusionMatrixDisplay.from_predictions(y_test, lr5_preds)"
   ]
  },
  {
   "cell_type": "code",
   "execution_count": 96,
   "id": "4bea0964-4566-436b-8d7b-1480bd7653df",
   "metadata": {},
   "outputs": [
    {
     "data": {
      "text/plain": [
       "135"
      ]
     },
     "execution_count": 96,
     "metadata": {},
     "output_type": "execute_result"
    }
   ],
   "source": [
    "y_test.sum()"
   ]
  },
  {
   "cell_type": "code",
   "execution_count": 102,
   "id": "6dbd7fa1-010c-49f8-837f-33ff97419f5a",
   "metadata": {},
   "outputs": [
    {
     "data": {
      "text/plain": [
       "(52723, 2170)"
      ]
     },
     "execution_count": 102,
     "metadata": {},
     "output_type": "execute_result"
    }
   ],
   "source": [
    "X_train.shape"
   ]
  },
  {
   "cell_type": "code",
   "execution_count": null,
   "id": "a6ef3042-fa01-465f-a3a8-ff4dfaabeda1",
   "metadata": {},
   "outputs": [],
   "source": [
    "data1[data1]"
   ]
  }
 ],
 "metadata": {
  "kernelspec": {
   "display_name": "Python 3 (ipykernel)",
   "language": "python",
   "name": "python3"
  },
  "language_info": {
   "codemirror_mode": {
    "name": "ipython",
    "version": 3
   },
   "file_extension": ".py",
   "mimetype": "text/x-python",
   "name": "python",
   "nbconvert_exporter": "python",
   "pygments_lexer": "ipython3",
   "version": "3.9.7"
  }
 },
 "nbformat": 4,
 "nbformat_minor": 5
}
