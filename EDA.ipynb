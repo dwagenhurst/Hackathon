{
 "cells": [
  {
   "cell_type": "code",
   "execution_count": 2,
   "id": "cc25ffdf-8a9a-454b-9157-27c1f48608bb",
   "metadata": {},
   "outputs": [],
   "source": [
    "# imports\n",
    "import pandas as pd\n",
    "import numpy as np\n",
    "import matplotlib.pyplot as plt\n",
    "import seaborn as sns\n"
   ]
  },
  {
   "cell_type": "code",
   "execution_count": 3,
   "id": "19b6443a-c2a5-4b32-93cd-0f65e7e2058c",
   "metadata": {},
   "outputs": [
    {
     "data": {
      "text/html": [
       "<div>\n",
       "<style scoped>\n",
       "    .dataframe tbody tr th:only-of-type {\n",
       "        vertical-align: middle;\n",
       "    }\n",
       "\n",
       "    .dataframe tbody tr th {\n",
       "        vertical-align: top;\n",
       "    }\n",
       "\n",
       "    .dataframe thead th {\n",
       "        text-align: right;\n",
       "    }\n",
       "</style>\n",
       "<table border=\"1\" class=\"dataframe\">\n",
       "  <thead>\n",
       "    <tr style=\"text-align: right;\">\n",
       "      <th></th>\n",
       "      <th>name</th>\n",
       "      <th>moderator</th>\n",
       "      <th>vip</th>\n",
       "      <th>subscriber</th>\n",
       "      <th>is_first_message</th>\n",
       "      <th>message_len</th>\n",
       "      <th>qtd_msgs_15_secs</th>\n",
       "      <th>message</th>\n",
       "      <th>banned</th>\n",
       "    </tr>\n",
       "    <tr>\n",
       "      <th>Message_Datetime</th>\n",
       "      <th></th>\n",
       "      <th></th>\n",
       "      <th></th>\n",
       "      <th></th>\n",
       "      <th></th>\n",
       "      <th></th>\n",
       "      <th></th>\n",
       "      <th></th>\n",
       "      <th></th>\n",
       "    </tr>\n",
       "  </thead>\n",
       "  <tbody>\n",
       "    <tr>\n",
       "      <th>2021-08-30 02:21:29</th>\n",
       "      <td>xenobtx</td>\n",
       "      <td>0</td>\n",
       "      <td>0</td>\n",
       "      <td>0</td>\n",
       "      <td>0</td>\n",
       "      <td>9</td>\n",
       "      <td>1.0</td>\n",
       "      <td>OkayChamp</td>\n",
       "      <td>0</td>\n",
       "    </tr>\n",
       "    <tr>\n",
       "      <th>2021-08-30 02:21:29</th>\n",
       "      <td>joof420</td>\n",
       "      <td>0</td>\n",
       "      <td>0</td>\n",
       "      <td>0</td>\n",
       "      <td>0</td>\n",
       "      <td>10</td>\n",
       "      <td>1.0</td>\n",
       "      <td>gachiHYPER</td>\n",
       "      <td>0</td>\n",
       "    </tr>\n",
       "  </tbody>\n",
       "</table>\n",
       "</div>"
      ],
      "text/plain": [
       "                        name  moderator  vip  subscriber  is_first_message  \\\n",
       "Message_Datetime                                                             \n",
       "2021-08-30 02:21:29  xenobtx          0    0           0                 0   \n",
       "2021-08-30 02:21:29  joof420          0    0           0                 0   \n",
       "\n",
       "                     message_len  qtd_msgs_15_secs     message  banned  \n",
       "Message_Datetime                                                        \n",
       "2021-08-30 02:21:29            9               1.0   OkayChamp       0  \n",
       "2021-08-30 02:21:29           10               1.0  gachiHYPER       0  "
      ]
     },
     "execution_count": 3,
     "metadata": {},
     "output_type": "execute_result"
    }
   ],
   "source": [
    "data = pd.read_csv('./data/xqc_chat.csv', parse_dates=True, index_col='Message_Datetime')\n",
    "\n",
    "data.columns = [col.lower() for col in data.columns]\n",
    "\n",
    "data.head(2)"
   ]
  },
  {
   "cell_type": "code",
   "execution_count": 56,
   "id": "931047a2-ebce-4dcd-b8f9-7d27b5300964",
   "metadata": {},
   "outputs": [
    {
     "name": "stdout",
     "output_type": "stream",
     "text": [
      "<class 'pandas.core.frame.DataFrame'>\n",
      "DatetimeIndex: 703089 entries, 2021-08-30 02:21:29 to 2021-09-08 20:18:00\n",
      "Data columns (total 9 columns):\n",
      " #   Column            Non-Null Count   Dtype  \n",
      "---  ------            --------------   -----  \n",
      " 0   name              703089 non-null  object \n",
      " 1   moderator         703089 non-null  int64  \n",
      " 2   vip               703089 non-null  int64  \n",
      " 3   subscriber        703089 non-null  int64  \n",
      " 4   is_first_message  703089 non-null  int64  \n",
      " 5   message_len       703089 non-null  int64  \n",
      " 6   qtd_msgs_15_secs  703089 non-null  float64\n",
      " 7   message           702987 non-null  object \n",
      " 8   banned            703089 non-null  int64  \n",
      "dtypes: float64(1), int64(6), object(2)\n",
      "memory usage: 53.6+ MB\n"
     ]
    }
   ],
   "source": [
    "data.info()"
   ]
  },
  {
   "cell_type": "code",
   "execution_count": 61,
   "id": "29069b8a-e2e8-4bb2-a20e-a4381c336d67",
   "metadata": {},
   "outputs": [
    {
     "data": {
      "text/plain": [
       "name                  0\n",
       "moderator             0\n",
       "vip                   0\n",
       "subscriber            0\n",
       "is_first_message      0\n",
       "message_len           0\n",
       "qtd_msgs_15_secs      0\n",
       "message             102\n",
       "banned                0\n",
       "dtype: int64"
      ]
     },
     "execution_count": 61,
     "metadata": {},
     "output_type": "execute_result"
    }
   ],
   "source": [
    "data.isna().sum()"
   ]
  },
  {
   "cell_type": "code",
   "execution_count": 110,
   "id": "76359584-c995-44f0-8ab6-469aa9ed0c93",
   "metadata": {},
   "outputs": [
    {
     "data": {
      "text/plain": [
       "6770"
      ]
     },
     "execution_count": 110,
     "metadata": {},
     "output_type": "execute_result"
    }
   ],
   "source": [
    "data.banned.value_counts()[1]"
   ]
  },
  {
   "cell_type": "code",
   "execution_count": 50,
   "id": "84535a40-9ceb-4f7c-8cae-aa28890a310d",
   "metadata": {},
   "outputs": [
    {
     "data": {
      "text/plain": [
       "0    0.990371\n",
       "1    0.009629\n",
       "Name: banned, dtype: float64"
      ]
     },
     "execution_count": 50,
     "metadata": {},
     "output_type": "execute_result"
    }
   ],
   "source": [
    "data.banned.value_counts(normalize=True)"
   ]
  },
  {
   "cell_type": "code",
   "execution_count": 51,
   "id": "50c4b868-5238-467b-9b64-3a1f772df728",
   "metadata": {},
   "outputs": [
    {
     "data": {
      "text/plain": [
       "(59845,)"
      ]
     },
     "execution_count": 51,
     "metadata": {},
     "output_type": "execute_result"
    }
   ],
   "source": [
    "# number of unique chatters\n",
    "data.name.unique().shape"
   ]
  },
  {
   "cell_type": "code",
   "execution_count": 170,
   "id": "b75c89af-6f46-4b2a-a0ea-a4e490f7d28e",
   "metadata": {},
   "outputs": [
    {
     "data": {
      "image/png": "[encoded data removed]",
      "text/plain": [
       "<Figure size 432x288 with 1 Axes>"
      ]
     },
     "metadata": {
      "needs_background": "light"
     },
     "output_type": "display_data"
    },
    {
     "data": {
      "image/png": "[encoded data removed]",
      "text/plain": [
       "<Figure size 432x288 with 1 Axes>"
      ]
     },
     "metadata": {
      "needs_background": "light"
     },
     "output_type": "display_data"
    },
    {
     "data": {
      "image/png": "[encoded data removed]",
      "text/plain": [
       "<Figure size 432x288 with 1 Axes>"
      ]
     },
     "metadata": {
      "needs_background": "light"
     },
     "output_type": "display_data"
    },
    {
     "data": {
      "image/png": "[encoded data removed]",
      "text/plain": [
       "<Figure size 432x288 with 1 Axes>"
      ]
     },
     "metadata": {
      "needs_background": "light"
     },
     "output_type": "display_data"
    },
    {
     "data": {
      "image/png": "[encoded data removed]",
      "text/plain": [
       "<Figure size 432x288 with 1 Axes>"
      ]
     },
     "metadata": {
      "needs_background": "light"
     },
     "output_type": "display_data"
    },
    {
     "data": {
      "image/png": "[encoded data removed]",
      "text/plain": [
       "<Figure size 432x288 with 1 Axes>"
      ]
     },
     "metadata": {
      "needs_background": "light"
     },
     "output_type": "display_data"
    },
    {
     "data": {
      "image/png": "[encoded data removed]",
      "text/plain": [
       "<Figure size 432x288 with 1 Axes>"
      ]
     },
     "metadata": {
      "needs_background": "light"
     },
     "output_type": "display_data"
    }
   ],
   "source": [
    "banned_cumsum = pd.DataFrame(data['banned'].cumsum())\n",
    "\n",
    "# plot bans over time overall\n",
    "banned_cumsum.plot()\n",
    "\n",
    "# zoom in on 'streams'\n",
    "\n",
    "banned_cumsum.loc['2021-08-30'].plot() #\n",
    "\n",
    "banned_cumsum.loc['2021-08-31'].plot()\n",
    "\n",
    "banned_cumsum.loc['2021-09-01'].plot()\n",
    "\n",
    "banned_cumsum.loc['2021-09-02'].plot() #\n",
    "\n",
    "banned_cumsum.loc['2021-09-03'].plot()\n",
    "\n",
    "banned_cumsum.loc['2021-09-08'].plot();"
   ]
  },
  {
   "cell_type": "code",
   "execution_count": 165,
   "id": "02a848f0-d608-46a1-a5f9-7089456767e1",
   "metadata": {},
   "outputs": [
    {
     "name": "stdout",
     "output_type": "stream",
     "text": [
      " Expected: 6770, Actual: 1285\n",
      " Expected: 59845, Actual: 59845\n"
     ]
    }
   ],
   "source": [
    "last_message = data.groupby('name')[data.columns].last()\n",
    "print(f' Expected: {data.banned.value_counts()[1]}, Actual: {last_message.banned.sum()}')\n",
    "print(f' Expected: {data.name.unique().shape[0]}, Actual: {len(last_message)}')\n",
    "\n",
    "# people are getting banned multiple times, perhaps these are 'message got removed'\n",
    "# last message isnt necessarily the ban message"
   ]
  },
  {
   "cell_type": "code",
   "execution_count": 6,
   "id": "6a127b00-5fc1-4b87-abf1-dcc98774ad0e",
   "metadata": {},
   "outputs": [],
   "source": [
    "temp = data.groupby('name')['banned'].sum()"
   ]
  },
  {
   "cell_type": "code",
   "execution_count": 7,
   "id": "fca56d4a-8455-4cd8-84df-38b986172fc4",
   "metadata": {},
   "outputs": [
    {
     "data": {
      "text/plain": [
       "name\n",
       "nick__hbb                  27\n",
       "forgettrance               24\n",
       "69haggushippo              22\n",
       "shriaknt                   19\n",
       "higmaxx                    18\n",
       "FredFauIk                  17\n",
       "croudzeroo                 16\n",
       "QUOTE_IF_VOYBOY_ON_RYZE    16\n",
       "1mari0                     16\n",
       "nukeondatface3             16\n",
       "Name: banned, dtype: int64"
      ]
     },
     "execution_count": 7,
     "metadata": {},
     "output_type": "execute_result"
    }
   ],
   "source": [
    "temp.sort_values(ascending=False)[:10]"
   ]
  },
  {
   "cell_type": "code",
   "execution_count": 4,
   "id": "eae8d9be-018a-47af-92ea-681d506b15b7",
   "metadata": {},
   "outputs": [
    {
     "data": {
      "text/html": [
       "<div>\n",
       "<style scoped>\n",
       "    .dataframe tbody tr th:only-of-type {\n",
       "        vertical-align: middle;\n",
       "    }\n",
       "\n",
       "    .dataframe tbody tr th {\n",
       "        vertical-align: top;\n",
       "    }\n",
       "\n",
       "    .dataframe thead th {\n",
       "        text-align: right;\n",
       "    }\n",
       "</style>\n",
       "<table border=\"1\" class=\"dataframe\">\n",
       "  <thead>\n",
       "    <tr style=\"text-align: right;\">\n",
       "      <th></th>\n",
       "      <th>name</th>\n",
       "      <th>moderator</th>\n",
       "      <th>vip</th>\n",
       "      <th>subscriber</th>\n",
       "      <th>is_first_message</th>\n",
       "      <th>message_len</th>\n",
       "      <th>qtd_msgs_15_secs</th>\n",
       "      <th>message</th>\n",
       "      <th>banned</th>\n",
       "    </tr>\n",
       "    <tr>\n",
       "      <th>Message_Datetime</th>\n",
       "      <th></th>\n",
       "      <th></th>\n",
       "      <th></th>\n",
       "      <th></th>\n",
       "      <th></th>\n",
       "      <th></th>\n",
       "      <th></th>\n",
       "      <th></th>\n",
       "      <th></th>\n",
       "    </tr>\n",
       "  </thead>\n",
       "  <tbody>\n",
       "    <tr>\n",
       "      <th>2021-09-01 21:11:43</th>\n",
       "      <td>nick__hbb</td>\n",
       "      <td>0</td>\n",
       "      <td>0</td>\n",
       "      <td>1</td>\n",
       "      <td>0</td>\n",
       "      <td>125</td>\n",
       "      <td>1.0</td>\n",
       "      <td>CSGO SURFING POGGERS CSGO SURFING POGGERS CSGO...</td>\n",
       "      <td>0</td>\n",
       "    </tr>\n",
       "    <tr>\n",
       "      <th>2021-09-01 21:11:49</th>\n",
       "      <td>nick__hbb</td>\n",
       "      <td>0</td>\n",
       "      <td>0</td>\n",
       "      <td>1</td>\n",
       "      <td>0</td>\n",
       "      <td>146</td>\n",
       "      <td>1.0</td>\n",
       "      <td>CSGO SURFING POGGERS CSGO SURFING POGGERS CSGO...</td>\n",
       "      <td>0</td>\n",
       "    </tr>\n",
       "    <tr>\n",
       "      <th>2021-09-01 21:11:55</th>\n",
       "      <td>nick__hbb</td>\n",
       "      <td>0</td>\n",
       "      <td>0</td>\n",
       "      <td>1</td>\n",
       "      <td>0</td>\n",
       "      <td>167</td>\n",
       "      <td>2.0</td>\n",
       "      <td>CSGO SURFING POGGERS CSGO SURFING POGGERS CSGO...</td>\n",
       "      <td>0</td>\n",
       "    </tr>\n",
       "    <tr>\n",
       "      <th>2021-09-01 21:12:05</th>\n",
       "      <td>nick__hbb</td>\n",
       "      <td>0</td>\n",
       "      <td>0</td>\n",
       "      <td>1</td>\n",
       "      <td>0</td>\n",
       "      <td>125</td>\n",
       "      <td>2.0</td>\n",
       "      <td>CSGO SURFING POGGERS CSGO SURFING POGGERS CSGO...</td>\n",
       "      <td>0</td>\n",
       "    </tr>\n",
       "    <tr>\n",
       "      <th>2021-09-01 21:12:30</th>\n",
       "      <td>nick__hbb</td>\n",
       "      <td>0</td>\n",
       "      <td>0</td>\n",
       "      <td>1</td>\n",
       "      <td>0</td>\n",
       "      <td>272</td>\n",
       "      <td>1.0</td>\n",
       "      <td>CSGO SURFING POGGERS CSGO SURFING POGGERS CSGO...</td>\n",
       "      <td>0</td>\n",
       "    </tr>\n",
       "    <tr>\n",
       "      <th>...</th>\n",
       "      <td>...</td>\n",
       "      <td>...</td>\n",
       "      <td>...</td>\n",
       "      <td>...</td>\n",
       "      <td>...</td>\n",
       "      <td>...</td>\n",
       "      <td>...</td>\n",
       "      <td>...</td>\n",
       "      <td>...</td>\n",
       "    </tr>\n",
       "    <tr>\n",
       "      <th>2021-09-03 00:21:20</th>\n",
       "      <td>nick__hbb</td>\n",
       "      <td>0</td>\n",
       "      <td>0</td>\n",
       "      <td>1</td>\n",
       "      <td>0</td>\n",
       "      <td>359</td>\n",
       "      <td>1.0</td>\n",
       "      <td>@xQcOW pog https://youtu.be/0ug2DOoxJ1g @xQcOW...</td>\n",
       "      <td>1</td>\n",
       "    </tr>\n",
       "    <tr>\n",
       "      <th>2021-09-03 00:34:46</th>\n",
       "      <td>nick__hbb</td>\n",
       "      <td>0</td>\n",
       "      <td>0</td>\n",
       "      <td>1</td>\n",
       "      <td>0</td>\n",
       "      <td>13</td>\n",
       "      <td>1.0</td>\n",
       "      <td>@xQcOW pog ht</td>\n",
       "      <td>1</td>\n",
       "    </tr>\n",
       "    <tr>\n",
       "      <th>2021-09-03 00:35:06</th>\n",
       "      <td>nick__hbb</td>\n",
       "      <td>0</td>\n",
       "      <td>0</td>\n",
       "      <td>1</td>\n",
       "      <td>0</td>\n",
       "      <td>39</td>\n",
       "      <td>1.0</td>\n",
       "      <td>@xQcOW pog https://youtu.be/0ug2DOoxJ1g</td>\n",
       "      <td>1</td>\n",
       "    </tr>\n",
       "    <tr>\n",
       "      <th>2021-09-03 00:35:32</th>\n",
       "      <td>nick__hbb</td>\n",
       "      <td>0</td>\n",
       "      <td>0</td>\n",
       "      <td>1</td>\n",
       "      <td>0</td>\n",
       "      <td>319</td>\n",
       "      <td>1.0</td>\n",
       "      <td>@xQcOW pog https://youtu.be/0ug2DOoxJ1g @xQcOW...</td>\n",
       "      <td>1</td>\n",
       "    </tr>\n",
       "    <tr>\n",
       "      <th>2021-09-03 00:36:45</th>\n",
       "      <td>nick__hbb</td>\n",
       "      <td>0</td>\n",
       "      <td>0</td>\n",
       "      <td>1</td>\n",
       "      <td>0</td>\n",
       "      <td>359</td>\n",
       "      <td>1.0</td>\n",
       "      <td>@xQcOW pog https://youtu.be/0ug2DOoxJ1g @xQcOW...</td>\n",
       "      <td>1</td>\n",
       "    </tr>\n",
       "  </tbody>\n",
       "</table>\n",
       "<p>61 rows × 9 columns</p>\n",
       "</div>"
      ],
      "text/plain": [
       "                          name  moderator  vip  subscriber  is_first_message  \\\n",
       "Message_Datetime                                                               \n",
       "2021-09-01 21:11:43  nick__hbb          0    0           1                 0   \n",
       "2021-09-01 21:11:49  nick__hbb          0    0           1                 0   \n",
       "2021-09-01 21:11:55  nick__hbb          0    0           1                 0   \n",
       "2021-09-01 21:12:05  nick__hbb          0    0           1                 0   \n",
       "2021-09-01 21:12:30  nick__hbb          0    0           1                 0   \n",
       "...                        ...        ...  ...         ...               ...   \n",
       "2021-09-03 00:21:20  nick__hbb          0    0           1                 0   \n",
       "2021-09-03 00:34:46  nick__hbb          0    0           1                 0   \n",
       "2021-09-03 00:35:06  nick__hbb          0    0           1                 0   \n",
       "2021-09-03 00:35:32  nick__hbb          0    0           1                 0   \n",
       "2021-09-03 00:36:45  nick__hbb          0    0           1                 0   \n",
       "\n",
       "                     message_len  qtd_msgs_15_secs  \\\n",
       "Message_Datetime                                     \n",
       "2021-09-01 21:11:43          125               1.0   \n",
       "2021-09-01 21:11:49          146               1.0   \n",
       "2021-09-01 21:11:55          167               2.0   \n",
       "2021-09-01 21:12:05          125               2.0   \n",
       "2021-09-01 21:12:30          272               1.0   \n",
       "...                          ...               ...   \n",
       "2021-09-03 00:21:20          359               1.0   \n",
       "2021-09-03 00:34:46           13               1.0   \n",
       "2021-09-03 00:35:06           39               1.0   \n",
       "2021-09-03 00:35:32          319               1.0   \n",
       "2021-09-03 00:36:45          359               1.0   \n",
       "\n",
       "                                                               message  banned  \n",
       "Message_Datetime                                                                \n",
       "2021-09-01 21:11:43  CSGO SURFING POGGERS CSGO SURFING POGGERS CSGO...       0  \n",
       "2021-09-01 21:11:49  CSGO SURFING POGGERS CSGO SURFING POGGERS CSGO...       0  \n",
       "2021-09-01 21:11:55  CSGO SURFING POGGERS CSGO SURFING POGGERS CSGO...       0  \n",
       "2021-09-01 21:12:05  CSGO SURFING POGGERS CSGO SURFING POGGERS CSGO...       0  \n",
       "2021-09-01 21:12:30  CSGO SURFING POGGERS CSGO SURFING POGGERS CSGO...       0  \n",
       "...                                                                ...     ...  \n",
       "2021-09-03 00:21:20  @xQcOW pog https://youtu.be/0ug2DOoxJ1g @xQcOW...       1  \n",
       "2021-09-03 00:34:46                                      @xQcOW pog ht       1  \n",
       "2021-09-03 00:35:06            @xQcOW pog https://youtu.be/0ug2DOoxJ1g       1  \n",
       "2021-09-03 00:35:32  @xQcOW pog https://youtu.be/0ug2DOoxJ1g @xQcOW...       1  \n",
       "2021-09-03 00:36:45  @xQcOW pog https://youtu.be/0ug2DOoxJ1g @xQcOW...       1  \n",
       "\n",
       "[61 rows x 9 columns]"
      ]
     },
     "execution_count": 4,
     "metadata": {},
     "output_type": "execute_result"
    }
   ],
   "source": [
    "data[data['name'] == 'nick__hbb']"
   ]
  },
  {
   "cell_type": "code",
   "execution_count": 146,
   "id": "4b77ac06-977d-42d4-9b0d-1f2f664cca1a",
   "metadata": {},
   "outputs": [
    {
     "data": {
      "text/html": [
       "<div>\n",
       "<style scoped>\n",
       "    .dataframe tbody tr th:only-of-type {\n",
       "        vertical-align: middle;\n",
       "    }\n",
       "\n",
       "    .dataframe tbody tr th {\n",
       "        vertical-align: top;\n",
       "    }\n",
       "\n",
       "    .dataframe thead th {\n",
       "        text-align: right;\n",
       "    }\n",
       "</style>\n",
       "<table border=\"1\" class=\"dataframe\">\n",
       "  <thead>\n",
       "    <tr style=\"text-align: right;\">\n",
       "      <th></th>\n",
       "      <th>moderator</th>\n",
       "      <th>vip</th>\n",
       "      <th>subscriber</th>\n",
       "      <th>is_first_message</th>\n",
       "      <th>message_len</th>\n",
       "      <th>qtd_msgs_15_secs</th>\n",
       "      <th>banned</th>\n",
       "    </tr>\n",
       "  </thead>\n",
       "  <tbody>\n",
       "    <tr>\n",
       "      <th>count</th>\n",
       "      <td>703089.000000</td>\n",
       "      <td>703089.000000</td>\n",
       "      <td>703089.000000</td>\n",
       "      <td>703089.0</td>\n",
       "      <td>703089.000000</td>\n",
       "      <td>703089.000000</td>\n",
       "      <td>703089.000000</td>\n",
       "    </tr>\n",
       "    <tr>\n",
       "      <th>mean</th>\n",
       "      <td>0.011603</td>\n",
       "      <td>0.009689</td>\n",
       "      <td>0.512222</td>\n",
       "      <td>0.0</td>\n",
       "      <td>25.724166</td>\n",
       "      <td>1.292411</td>\n",
       "      <td>0.009629</td>\n",
       "    </tr>\n",
       "    <tr>\n",
       "      <th>std</th>\n",
       "      <td>0.107091</td>\n",
       "      <td>0.097953</td>\n",
       "      <td>0.499851</td>\n",
       "      <td>0.0</td>\n",
       "      <td>47.250536</td>\n",
       "      <td>0.758085</td>\n",
       "      <td>0.097654</td>\n",
       "    </tr>\n",
       "    <tr>\n",
       "      <th>min</th>\n",
       "      <td>0.000000</td>\n",
       "      <td>0.000000</td>\n",
       "      <td>0.000000</td>\n",
       "      <td>0.0</td>\n",
       "      <td>0.000000</td>\n",
       "      <td>1.000000</td>\n",
       "      <td>0.000000</td>\n",
       "    </tr>\n",
       "    <tr>\n",
       "      <th>25%</th>\n",
       "      <td>0.000000</td>\n",
       "      <td>0.000000</td>\n",
       "      <td>0.000000</td>\n",
       "      <td>0.0</td>\n",
       "      <td>7.000000</td>\n",
       "      <td>1.000000</td>\n",
       "      <td>0.000000</td>\n",
       "    </tr>\n",
       "    <tr>\n",
       "      <th>50%</th>\n",
       "      <td>0.000000</td>\n",
       "      <td>0.000000</td>\n",
       "      <td>1.000000</td>\n",
       "      <td>0.0</td>\n",
       "      <td>11.000000</td>\n",
       "      <td>1.000000</td>\n",
       "      <td>0.000000</td>\n",
       "    </tr>\n",
       "    <tr>\n",
       "      <th>75%</th>\n",
       "      <td>0.000000</td>\n",
       "      <td>0.000000</td>\n",
       "      <td>1.000000</td>\n",
       "      <td>0.0</td>\n",
       "      <td>20.000000</td>\n",
       "      <td>1.000000</td>\n",
       "      <td>0.000000</td>\n",
       "    </tr>\n",
       "    <tr>\n",
       "      <th>max</th>\n",
       "      <td>1.000000</td>\n",
       "      <td>1.000000</td>\n",
       "      <td>1.000000</td>\n",
       "      <td>0.0</td>\n",
       "      <td>3876.000000</td>\n",
       "      <td>31.000000</td>\n",
       "      <td>1.000000</td>\n",
       "    </tr>\n",
       "  </tbody>\n",
       "</table>\n",
       "</div>"
      ],
      "text/plain": [
       "           moderator            vip     subscriber  is_first_message  \\\n",
       "count  703089.000000  703089.000000  703089.000000          703089.0   \n",
       "mean        0.011603       0.009689       0.512222               0.0   \n",
       "std         0.107091       0.097953       0.499851               0.0   \n",
       "min         0.000000       0.000000       0.000000               0.0   \n",
       "25%         0.000000       0.000000       0.000000               0.0   \n",
       "50%         0.000000       0.000000       1.000000               0.0   \n",
       "75%         0.000000       0.000000       1.000000               0.0   \n",
       "max         1.000000       1.000000       1.000000               0.0   \n",
       "\n",
       "         message_len  qtd_msgs_15_secs         banned  \n",
       "count  703089.000000     703089.000000  703089.000000  \n",
       "mean       25.724166          1.292411       0.009629  \n",
       "std        47.250536          0.758085       0.097654  \n",
       "min         0.000000          1.000000       0.000000  \n",
       "25%         7.000000          1.000000       0.000000  \n",
       "50%        11.000000          1.000000       0.000000  \n",
       "75%        20.000000          1.000000       0.000000  \n",
       "max      3876.000000         31.000000       1.000000  "
      ]
     },
     "execution_count": 146,
     "metadata": {},
     "output_type": "execute_result"
    }
   ],
   "source": [
    "data.describe()"
   ]
  },
  {
   "cell_type": "markdown",
   "id": "e87ee632-d75d-45fb-a5c4-63a0c69691f7",
   "metadata": {},
   "source": [
    "is_first_message has no useful info"
   ]
  },
  {
   "cell_type": "code",
   "execution_count": 163,
   "id": "28c2d9d4-3e56-4b2a-b6aa-b4c6f96eb117",
   "metadata": {},
   "outputs": [
    {
     "data": {
      "image/png": "[encoded data removed]",
      "text/plain": [
       "<Figure size 432x288 with 1 Axes>"
      ]
     },
     "metadata": {
      "needs_background": "light"
     },
     "output_type": "display_data"
    }
   ],
   "source": [
    "temp = pd.DataFrame(temp)\n",
    "plt.hist(np.log(temp[temp['banned'] > 0]));"
   ]
  },
  {
   "cell_type": "code",
   "execution_count": 166,
   "id": "4bc41c59-2452-4de9-bc6f-833369d629f6",
   "metadata": {},
   "outputs": [
    {
     "data": {
      "text/plain": [
       "4312"
      ]
     },
     "execution_count": 166,
     "metadata": {},
     "output_type": "execute_result"
    }
   ],
   "source": [
    "len(temp[temp['banned'] > 0])"
   ]
  },
  {
   "cell_type": "code",
   "execution_count": 167,
   "id": "cced9dc6-6b19-4f86-8976-44f51f3fe806",
   "metadata": {},
   "outputs": [
    {
     "data": {
      "text/plain": [
       "banned    3248\n",
       "dtype: int64"
      ]
     },
     "execution_count": 167,
     "metadata": {},
     "output_type": "execute_result"
    }
   ],
   "source": [
    "# most people who get banned only get banned once\n",
    "temp[temp['banned'] == 1].sum()"
   ]
  },
  {
   "cell_type": "code",
   "execution_count": null,
   "id": "81f6aa1a-9eb7-4817-afa7-8bac40661d1e",
   "metadata": {},
   "outputs": [],
   "source": []
  }
 ],
 "metadata": {
  "kernelspec": {
   "display_name": "Python 3 (ipykernel)",
   "language": "python",
   "name": "python3"
  },
  "language_info": {
   "codemirror_mode": {
    "name": "ipython",
    "version": 3
   },
   "file_extension": ".py",
   "mimetype": "text/x-python",
   "name": "python",
   "nbconvert_exporter": "python",
   "pygments_lexer": "ipython3",
   "version": "3.9.7"
  }
 },
 "nbformat": 4,
 "nbformat_minor": 5
}
